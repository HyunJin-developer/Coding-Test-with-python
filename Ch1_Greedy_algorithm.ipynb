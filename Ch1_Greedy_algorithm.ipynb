{
  "nbformat": 4,
  "nbformat_minor": 0,
  "metadata": {
    "colab": {
      "provenance": [],
      "authorship_tag": "ABX9TyOqAK/4kzelB62KwpOUPxOe",
      "include_colab_link": true
    },
    "kernelspec": {
      "name": "python3",
      "display_name": "Python 3"
    },
    "language_info": {
      "name": "python"
    }
  },
  "cells": [
    {
      "cell_type": "markdown",
      "metadata": {
        "id": "view-in-github",
        "colab_type": "text"
      },
      "source": [
        "<a href=\"https://colab.research.google.com/github/HyunJin-developer/Coding-Test-with-python/blob/main/Ch1_Greedy_algorithm.ipynb\" target=\"_parent\"><img src=\"https://colab.research.google.com/assets/colab-badge.svg\" alt=\"Open In Colab\"/></a>"
      ]
    },
    {
      "cell_type": "markdown",
      "source": [
        "#Ch1. Greedy 알고리즘\n",
        "그리디 알고리즘이란 직역으로 탐욕법이라는 뜻이다. 이름에서 알 수 있듯이 어떠한 문제가 있을 때 단순 무식하게, 탐욕적으로 문제를 푸는 알고리즘이다. **현재 상황에서 가장 좋은 것만 고르는 방법**이다.\n",
        "\n",
        "###예제 3-1 거스름돈\n",
        "당신은 음식점의 계산을 도와주는 점원이다. 카운터에는 거스름돈으로 사용할 500원, 100원, 50원, 10원짜리 동전이 무한히 존재한다고 가정한다. 손님에게 거슬로줘야 할 돈이 N원일 때 거슬러 줘야할 동전의 최소 개수를 구하라. 단, 거슬러 줘야 할 돈 N은 항상 10의 배수이다."
      ],
      "metadata": {
        "id": "KOMbkHjifVwz"
      }
    },
    {
      "cell_type": "code",
      "source": [
        "n = 1200\n",
        "count = 0\n",
        "\n",
        "# 큰 단위의 화폐부터 차례대로 확인\n",
        "coin_types = [500, 100, 50, 10]\n",
        "\n",
        "for coin in coin_types:\n",
        "  count += n  // coin   # 해당 화폐로 거슬러 줄 수 있는 동전의 개수 크기  '//' 는 몫 구하는 연산\n",
        "  n %= coin   # % 는 나머지 연산\n",
        "\n",
        "print(count)"
      ],
      "metadata": {
        "colab": {
          "base_uri": "https://localhost:8080/"
        },
        "id": "82ET8LPBgebt",
        "outputId": "4298d6ff-ee2f-4d88-dee8-8c6942d726b6"
      },
      "execution_count": null,
      "outputs": [
        {
          "output_type": "stream",
          "name": "stdout",
          "text": [
            "4\n"
          ]
        }
      ]
    },
    {
      "cell_type": "markdown",
      "source": [
        "## 그리디 알고리즘의 정당성\n",
        "그리디 알고리즘은 '최적의 해'를 찾을 수 있는 경우만 사용한다. 그리디 알고리즘으로 문제의 해법을 찾았을 때는 그 해법이 정당한지 검토해야 한다. 거스름돈 문제를 그리디 알고리즘으로 해결할 수 있는 이유는 가지고 있는 동전 중에서 큰 단위가 항상 작은 단위의 배수이므로 작은 단위의 동전들을 종합해 다른 해가 나올 수 없기 때문이다.\n",
        "\n",
        "예를 들어 800원을 거슬러 줘야 하는데, 화폐 단위가 500원, 400원, 100원인 경우를 생각해보자. 이 경우에 그리디 알고리즘으로는 4개의 동전(500원 + 100원 + 100원 + 100원)을 거슬러 줘야 한다고 나오는데, 최적의 해는 2개의 동전(400원 + 400원)을 거슬러 주는 것이다. 다시 말해 이 문제에서는 큰 단위가 작은 단위의 배수 형태이므로, '가장 큰 단위의 화폐부터 가장 작은 단위의 화폐까지 차례대로 확인하여 거슬러 주는 작업만을 수행하면 된다'는 아이디어는 정당하다. **대부분의 그리디 알고리즘 문제에서는 이처럼 문제 풀이를 위한 최소한의 아이디어를 떠올리고 이것이 정당한지 검토할 수 있어야 답을 도출할 수 있다.**\n"
      ],
      "metadata": {
        "id": "G6v6fvNvhata"
      }
    },
    {
      "cell_type": "markdown",
      "source": [
        "##큰 수의 법칙\n",
        "'큰 수의 법칙'은 일반적으로 통계 분야에서 다루어지는 내용이지만 동빈이는 보인만의 방식으로 다르게 사용하고 있다. 동빈이의 큰 수의 법칙은 다양한 수로 이루어진 배열이 있을 때 주어진 수들을 M번 더하여 가장 큰 수를 만드는 법치이다. 단, 배열의 특정한 인덱스(번호)에 해당하는 수가 연속해서 K 번 초과하여 더해질 수 없는 것이 이 법칙의 특징이다.\n",
        "\n",
        "예를 들어 순서대로 2, 4, 5, 4, 6 으로 이루어진 배열이  있을 때 M이 8이고, K가 3이라고 가정하자. 이 경우 특정한 인덱스의 수가 연속해서 세 번까지만 더해질 수 있으므로 큰 수의 법칙에 따른 결과는 6 + 6 + 6 + 5 + 6 + 6 + 6 + 5인 46이 된다.\n",
        "\n",
        "단, 서로 다른 인덱스에 해당하는 수가 같은 경우에도 서로 다른 것으로 간주한다. 예를 들어 순서대로 3, 4, 3, 4, 3으로 이루어진 배열이 있을 때 M이 7이고, K가 2라고 가정하자. 이 경우 두 번째 원소에 해당하는 4와 네 번째 원소에 해당하는 4를 번갈아 두 번씩 더하는 것이 가능하다. 결과적으로 4 + 4.... + 4(7번) 인 28이 도출된다.\n",
        "\n",
        "배열의 크기 N, 숫자가 더해지는 횟수 M, 그리고 K가 주어질 때 동빈이의 큰 수의 법칙에 따른 결과를 출력하시오.\n",
        "\n",
        "입력조건 :\n",
        "\n",
        "- 첫째 줄에 N(2<_ N <_ 1,000), M(1 <_ M <_ 10,000), K(1 <_ K <_ 10,000)의 자연수가 주어지며, 각 자연수는 공백으로 구분한다.\n",
        "- 둘째 줄에 N개의 자연수가 주어진다. 각 자연수는 공백으로 구분하다. 단, 각각의 자연수는 1 이상 10,000 이하의 수로 주어진다.\n",
        "- 입력으로 주어지는 K는 항상 M보다 작거나 같다.\n",
        "\n",
        "출력조건 :\n",
        "- 첫째 줄에 동빈이의 큰 수의 법칙에 따라 더해진 답을 출력한다.\n",
        "\n",
        "입력 예시 :\n",
        "- 5 8 3\n",
        "- 2 4 5 4 6\n",
        "\n",
        "출력 예시 :\n",
        "- 46\n"
      ],
      "metadata": {
        "id": "pUt7WHxccKcC"
      }
    },
    {
      "cell_type": "code",
      "source": [
        "# n, m, k를 공백으로 구분하여 입력받기\n",
        "n, m, k = map(int, input().split()) #split() : 구분자 띄워쓰기, map은 매핑\n",
        "# n개의 수를 공백으로 구분하여 입력받기.\n",
        "data = list(map(int, input().split()))  #list로 받기.\n",
        "\n",
        "data.sort(reverse=True) # 입력받은 수 오름차순\n",
        "\n",
        "idx1 = m // k     # idx1과 곱할 연산  몫으로 구하기.\n",
        "idx0 = m - idx1   # idx0는 m - m//k\n",
        "#print(idx0, idx1)\n",
        "\n",
        "result = data[0]*idx0 + data[1]*idx1\n",
        "print(result)"
      ],
      "metadata": {
        "id": "_Ol1byoNhJcw",
        "colab": {
          "base_uri": "https://localhost:8080/"
        },
        "outputId": "74a0fe8e-6d05-4cc6-ae25-5d8c1564d208"
      },
      "execution_count": 6,
      "outputs": [
        {
          "output_type": "stream",
          "name": "stdout",
          "text": [
            "5 8 3\n",
            "2 4 5 4 6\n",
            "6 2\n",
            "46\n"
          ]
        }
      ]
    },
    {
      "cell_type": "markdown",
      "source": [
        "내 의견 : 어차피 이 문제는 data[0], data[1]로만 사용하는 문제다.\n",
        "M을 K로 나눠서 나온 몫은 data[1]의 더하기 횟수이고, 전체 M을 몫으로 빼면 data[0]의 더하기 횟수이다."
      ],
      "metadata": {
        "id": "vGd30QgumaSb"
      }
    }
  ]
}